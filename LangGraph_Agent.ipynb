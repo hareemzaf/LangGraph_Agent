{
  "nbformat": 4,
  "nbformat_minor": 0,
  "metadata": {
    "colab": {
      "provenance": []
    },
    "kernelspec": {
      "name": "python3",
      "display_name": "Python 3"
    },
    "language_info": {
      "name": "python"
    }
  },
  "cells": [
    {
      "cell_type": "code",
      "source": [
        "!pip install typing_extensions\n"
      ],
      "metadata": {
        "colab": {
          "base_uri": "https://localhost:8080/"
        },
        "id": "qlYluP_FOiPk",
        "outputId": "9f69a939-b49a-493d-b8c1-e2a9be5ad337"
      },
      "execution_count": 43,
      "outputs": [
        {
          "output_type": "stream",
          "name": "stdout",
          "text": [
            "Requirement already satisfied: typing_extensions in /usr/local/lib/python3.11/dist-packages (4.12.2)\n"
          ]
        }
      ]
    },
    {
      "cell_type": "code",
      "source": [
        "from operator import add\n",
        "from typing import List, TypedDict, Optional, Annotated, Dict\n",
        "from typing import List, Optional, Annotated, Dict\n",
        "from typing_extensions import TypedDict\n",
        "from langgraph.checkpoint.memory import MemorySaver\n",
        "from langgraph.graph import StateGraph, START, END\n",
        "\n",
        "# The structure of the logs\n",
        "class Logs(TypedDict):\n",
        "    id: str\n",
        "    question: str\n",
        "    docs: Optional[List]\n",
        "    answer: str\n",
        "    grade: Optional[int]\n",
        "    grader: Optional[str]\n",
        "    feedback: Optional[str]"
      ],
      "metadata": {
        "id": "8J4zfX3TLCnh"
      },
      "execution_count": 44,
      "outputs": []
    },
    {
      "cell_type": "code",
      "source": [
        "# Failure Analysis Sub-graph\n",
        "class FailureAnalysisState(TypedDict):\n",
        "    docs: List[Logs] # from entry graph\n",
        "    failures: List[Logs]\n",
        "    fa_summary: str\n",
        "\n",
        "\n",
        "def get_failures(state):\n",
        "    docs = state[\"docs\"]\n",
        "    failures = [doc for doc in docs if \"grade\" in doc]\n",
        "    return {\"failures\": failures}\n",
        "\n",
        "\n",
        "def generate_summary(state):\n",
        "    failures = state[\"failures\"]\n",
        "    # Add fxn: fa_summary = summarize(failures)\n",
        "    fa_summary = \"Poor quality retrieval of Chroma documentation.\"\n",
        "    return {\"fa_summary\": fa_summary}\n",
        "\n",
        "\n",
        "fa_builder = StateGraph(FailureAnalysisState)\n",
        "fa_builder.add_node(\"get_failures\", get_failures)\n",
        "fa_builder.add_node(\"generate_summary\", generate_summary)\n",
        "fa_builder.add_edge(START, \"get_failures\")\n",
        "fa_builder.add_edge(\"get_failures\", \"generate_summary\")\n",
        "fa_builder.add_edge(\"generate_summary\", END)"
      ],
      "metadata": {
        "colab": {
          "base_uri": "https://localhost:8080/"
        },
        "id": "iCeYrN7cLFth",
        "outputId": "470d0412-3a5a-452e-861b-dc7406962213"
      },
      "execution_count": 45,
      "outputs": [
        {
          "output_type": "execute_result",
          "data": {
            "text/plain": [
              "<langgraph.graph.state.StateGraph at 0x7ca481736f90>"
            ]
          },
          "metadata": {},
          "execution_count": 45
        }
      ]
    },
    {
      "cell_type": "code",
      "source": [
        "# Summarization subgraph\n",
        "class QuestionSummarizationState(TypedDict):\n",
        "    docs: List[Logs] # from entry graph\n",
        "    qs_summary: str\n",
        "    report: str\n",
        "\n",
        "\n",
        "def generate_summary(state):\n",
        "    docs = state[\"docs\"]\n",
        "    # Add fxn: summary = summarize(docs)\n",
        "    summary = \"Questions focused on usage of ChatOllama and Chroma vector store.\"\n",
        "    return {\"qs_summary\": summary}\n",
        "\n",
        "\n",
        "def send_to_slack(state):\n",
        "    qs_summary = state[\"qs_summary\"]\n",
        "    # Add fxn: report = report_generation(qs_summary)\n",
        "    report = \"foo bar baz\"\n",
        "    return {\"report\": report}\n",
        "\n",
        "\n",
        "def format_report_for_slack(state):\n",
        "    report = state[\"report\"]\n",
        "    # Add fxn: formatted_report = report_format(report)\n",
        "    formatted_report = \"foo bar\"\n",
        "    return {\"report\": formatted_report}\n",
        "\n",
        "\n",
        "qs_builder = StateGraph(QuestionSummarizationState)\n",
        "qs_builder.add_node(\"generate_summary\", generate_summary)\n",
        "qs_builder.add_node(\"send_to_slack\", send_to_slack)\n",
        "qs_builder.add_node(\"format_report_for_slack\", format_report_for_slack)\n",
        "qs_builder.add_edge(START, \"generate_summary\")\n",
        "qs_builder.add_edge(\"generate_summary\", \"send_to_slack\")\n",
        "qs_builder.add_edge(\"send_to_slack\", \"format_report_for_slack\")\n",
        "qs_builder.add_edge(\"format_report_for_slack\", END)"
      ],
      "metadata": {
        "colab": {
          "base_uri": "https://localhost:8080/"
        },
        "id": "J9u2fe03N3AW",
        "outputId": "09fe825d-d831-4b0a-cb81-594ae4c5756f"
      },
      "execution_count": 46,
      "outputs": [
        {
          "output_type": "execute_result",
          "data": {
            "text/plain": [
              "<langgraph.graph.state.StateGraph at 0x7ca48172ff90>"
            ]
          },
          "metadata": {},
          "execution_count": 46
        }
      ]
    },
    {
      "cell_type": "code",
      "source": [
        "# Dummy logs\n",
        "question_answer = Logs(\n",
        "    id=\"1\",\n",
        "    question=\"How can I import ChatOllama?\",\n",
        "    answer=\"To import ChatOllama, use: 'from langchain_community.chat_models import ChatOllama.'\",\n",
        ")\n",
        "\n",
        "question_answer_feedback = Logs(\n",
        "    id=\"2\",\n",
        "    question=\"How can I use Chroma vector store?\",\n",
        "    answer=\"To use Chroma, define: rag_chain = create_retrieval_chain(retriever, question_answer_chain).\",\n",
        "    grade=0,\n",
        "    grader=\"Document Relevance Recall\",\n",
        "    feedback=\"The retrieved documents discuss vector stores in general, but not Chroma specifically\",\n",
        ")\n",
        "\n",
        "\n",
        "# Entry Graph\n",
        "class EntryGraphState(TypedDict):\n",
        "    raw_logs: Annotated[List[Dict], add]\n",
        "    docs: Annotated[List[Logs], add]  # This will be used in sub-graphs\n",
        "    fa_summary: str  # This will be generated in the FA sub-graph\n",
        "    report: str  # This will be generated in the QS sub-graph\n",
        "\n",
        "\n",
        "def convert_logs_to_docs(state):\n",
        "    # Get logs\n",
        "    raw_logs = state[\"raw_logs\"]\n",
        "    docs = [question_answer, question_answer_feedback]\n",
        "    return {\"docs\": docs}\n",
        "\n",
        "\n",
        "entry_builder = StateGraph(EntryGraphState)\n",
        "entry_builder.add_node(\"convert_logs_to_docs\", convert_logs_to_docs)\n",
        "entry_builder.add_node(\"question_summarization\", qs_builder.compile())\n",
        "entry_builder.add_node(\"failure_analysis\", fa_builder.compile())\n",
        "\n",
        "entry_builder.add_edge(START, \"convert_logs_to_docs\")\n",
        "entry_builder.add_edge(\"convert_logs_to_docs\", \"failure_analysis\")\n",
        "entry_builder.add_edge(\"convert_logs_to_docs\", \"question_summarization\")\n",
        "entry_builder.add_edge(\"failure_analysis\", END)\n",
        "entry_builder.add_edge(\"question_summarization\", END)\n",
        "\n",
        "graph = entry_builder.compile()"
      ],
      "metadata": {
        "id": "2neO-7D9N9yv"
      },
      "execution_count": 47,
      "outputs": []
    },
    {
      "cell_type": "code",
      "source": [
        "from IPython.display import Image, display\n",
        "\n",
        "# Setting xray to 1 will show the internal structure of the nested graph\n",
        "display(Image(graph.get_graph(xray=1).draw_mermaid_png()))"
      ],
      "metadata": {
        "colab": {
          "base_uri": "https://localhost:8080/",
          "height": 623
        },
        "id": "PpAiNOGSOJp7",
        "outputId": "42ca5254-cbcb-4428-bf0e-c32eed1738b3"
      },
      "execution_count": 48,
      "outputs": [
        {
          "output_type": "display_data",
          "data": {
            "image/png": "[encoded data removed]",
            "text/plain": [
              "<IPython.core.display.Image object>"
            ]
          },
          "metadata": {}
        }
      ]
    },
    {
      "cell_type": "code",
      "source": [
        "raw_logs = [{\"foo\": \"bar\"}, {\"foo\": \"baz\"}]\n",
        "result = graph.invoke({\"raw_logs\": raw_logs}, debug=False)"
      ],
      "metadata": {
        "id": "R17n8BvVOKY0"
      },
      "execution_count": 49,
      "outputs": []
    },
    {
      "cell_type": "code",
      "source": [
        "\n",
        "import json\n",
        "\n",
        "# Prettify JSON\n",
        "pretty_json = json.dumps(result, indent=4)\n",
        "print(pretty_json)"
      ],
      "metadata": {
        "colab": {
          "base_uri": "https://localhost:8080/"
        },
        "id": "EHO0WWcEPuPh",
        "outputId": "956d34d7-61a5-4cb5-89bc-c359cf315e28"
      },
      "execution_count": 50,
      "outputs": [
        {
          "output_type": "stream",
          "name": "stdout",
          "text": [
            "{\n",
            "    \"raw_logs\": [\n",
            "        {\n",
            "            \"foo\": \"bar\"\n",
            "        },\n",
            "        {\n",
            "            \"foo\": \"baz\"\n",
            "        }\n",
            "    ],\n",
            "    \"docs\": [\n",
            "        {\n",
            "            \"id\": \"1\",\n",
            "            \"question\": \"How can I import ChatOllama?\",\n",
            "            \"answer\": \"To import ChatOllama, use: 'from langchain_community.chat_models import ChatOllama.'\"\n",
            "        },\n",
            "        {\n",
            "            \"id\": \"2\",\n",
            "            \"question\": \"How can I use Chroma vector store?\",\n",
            "            \"answer\": \"To use Chroma, define: rag_chain = create_retrieval_chain(retriever, question_answer_chain).\",\n",
            "            \"grade\": 0,\n",
            "            \"grader\": \"Document Relevance Recall\",\n",
            "            \"feedback\": \"The retrieved documents discuss vector stores in general, but not Chroma specifically\"\n",
            "        },\n",
            "        {\n",
            "            \"id\": \"1\",\n",
            "            \"question\": \"How can I import ChatOllama?\",\n",
            "            \"answer\": \"To import ChatOllama, use: 'from langchain_community.chat_models import ChatOllama.'\"\n",
            "        },\n",
            "        {\n",
            "            \"id\": \"2\",\n",
            "            \"question\": \"How can I use Chroma vector store?\",\n",
            "            \"answer\": \"To use Chroma, define: rag_chain = create_retrieval_chain(retriever, question_answer_chain).\",\n",
            "            \"grade\": 0,\n",
            "            \"grader\": \"Document Relevance Recall\",\n",
            "            \"feedback\": \"The retrieved documents discuss vector stores in general, but not Chroma specifically\"\n",
            "        },\n",
            "        {\n",
            "            \"id\": \"1\",\n",
            "            \"question\": \"How can I import ChatOllama?\",\n",
            "            \"answer\": \"To import ChatOllama, use: 'from langchain_community.chat_models import ChatOllama.'\"\n",
            "        },\n",
            "        {\n",
            "            \"id\": \"2\",\n",
            "            \"question\": \"How can I use Chroma vector store?\",\n",
            "            \"answer\": \"To use Chroma, define: rag_chain = create_retrieval_chain(retriever, question_answer_chain).\",\n",
            "            \"grade\": 0,\n",
            "            \"grader\": \"Document Relevance Recall\",\n",
            "            \"feedback\": \"The retrieved documents discuss vector stores in general, but not Chroma specifically\"\n",
            "        }\n",
            "    ],\n",
            "    \"fa_summary\": \"Poor quality retrieval of Chroma documentation.\",\n",
            "    \"report\": \"foo bar\"\n",
            "}\n"
          ]
        }
      ]
    },
    {
      "source": [
        "\n",
        "from langchain.chat_models import init_chat_model\n",
        "import os\n",
        "\n",
        "# Set the OpenAI API key as an environment variable\n",
        "os.environ[\"OPENAI_API_KEY\"] = \"OPENAI_API_KEY\"\n",
        "\n",
        "# Initialize the LLM with single-line init method\n",
        "model = init_chat_model(model=\"gpt-4o-mini\", model_provider=\"openai\", temperature=0)"
      ],
      "cell_type": "code",
      "metadata": {
        "id": "YyQDrenTQPE1"
      },
      "execution_count": 51,
      "outputs": []
    },
    {
      "cell_type": "code",
      "source": [
        "import operator\n",
        "from typing import Annotated, TypedDict\n",
        "\n",
        "from langchain_core.pydantic_v1 import BaseModel\n",
        "from langgraph.constants import Send\n",
        "from langgraph.graph import END, StateGraph, START\n",
        "\n",
        "# Model and prompts\n",
        "# Define model and prompts we will use\n",
        "subjects_prompt = \"\"\"Generate a comma separated list of between 2 and 5 examples related to: {topic}.\"\"\"\n",
        "joke_prompt = \"\"\"Generate a joke about {subject}\"\"\"\n",
        "best_joke_prompt = \"\"\"Below are a bunch of jokes about {topic}. Select the best one! Return the ID of the best one.\n",
        "\n",
        "{jokes}\"\"\"\n",
        "\n",
        "\n",
        "class Subjects(BaseModel):\n",
        "    subjects: list[str]\n",
        "\n",
        "\n",
        "class Joke(BaseModel):\n",
        "    joke: str\n",
        "\n",
        "\n",
        "class BestJoke(BaseModel):\n",
        "    id: int\n",
        "\n",
        "\n",
        "# Graph components: define the components that will make up the graph\n",
        "\n",
        "\n",
        "# This will be the overall state of the main graph.\n",
        "# It will contain a topic (which we expect the user to provide)\n",
        "# and then will generate a list of subjects, and then a joke for\n",
        "# each subject\n",
        "class OverallState(TypedDict):\n",
        "    topic: str\n",
        "    subjects: list\n",
        "    # Notice here we use the operator.add\n",
        "    # This is because we want combine all the jokes we generate\n",
        "    # from individual nodes back into one list - this is essentially\n",
        "    # the \"reduce\" part\n",
        "    jokes: Annotated[list, operator.add]\n",
        "    best_selected_joke: str\n",
        "\n",
        "\n",
        "# This will be the state of the node that we will \"map\" all\n",
        "# subjects to in order to generate a joke\n",
        "class JokeState(TypedDict):\n",
        "    subject: str\n",
        "\n",
        "# This is the function we will use to generate the subjects of the jokes\n",
        "def generate_topics(state: OverallState):\n",
        "    prompt = subjects_prompt.format(topic=state[\"topic\"])\n",
        "    response = model.with_structured_output(Subjects).invoke(prompt)\n",
        "    return {\"subjects\": response.subjects}\n",
        "\n",
        "\n",
        "# Here we generate a joke, given a subject\n",
        "def generate_joke(state: JokeState):\n",
        "    # Load subject data from `Send` state object\n",
        "    prompt = joke_prompt.format(subject=state[\"subject\"])\n",
        "    response = model.with_structured_output(Joke).invoke(prompt)\n",
        "    return {\"jokes\": [response.joke]}\n",
        "\n",
        "\n",
        "# Here we define the logic to map out over the generated subjects\n",
        "# We will use this an edge in the graph\n",
        "def continue_to_jokes(state: OverallState):\n",
        "    # We will return a list of `Send` objects\n",
        "    # Each `Send` object consists of the name of a node in the graph\n",
        "    # as well as the state to send to that node\n",
        "    return [Send(\"generate_joke\", {\"subject\": s}) for s in state[\"subjects\"]]\n",
        "\n",
        "\n",
        "# Here we will judge the best joke\n",
        "def best_joke(state: OverallState):\n",
        "    jokes = \"\\n\\n\".join(state[\"jokes\"])\n",
        "    prompt = best_joke_prompt.format(topic=state[\"topic\"], jokes=jokes)\n",
        "    response = model.with_structured_output(BestJoke).invoke(prompt)\n",
        "    return {\"best_selected_joke\": state[\"jokes\"][response.id]}\n",
        "\n",
        "\n",
        "# Construct the graph: here we put everything together to construct our graph\n",
        "graph = StateGraph(OverallState)\n",
        "graph.add_node(\"generate_topics\", generate_topics)\n",
        "graph.add_node(\"generate_joke\", generate_joke)\n",
        "graph.add_node(\"best_joke\", best_joke)\n",
        "graph.add_edge(START, \"generate_topics\")\n",
        "graph.add_conditional_edges(\"generate_topics\", continue_to_jokes, [\"generate_joke\"])\n",
        "graph.add_edge(\"generate_joke\", \"best_joke\")\n",
        "graph.add_edge(\"best_joke\", END)\n",
        "app = graph.compile()"
      ],
      "metadata": {
        "id": "LnMkfsSLP8Y0"
      },
      "execution_count": 52,
      "outputs": []
    },
    {
      "cell_type": "code",
      "source": [
        "from IPython.display import Image\n",
        "\n",
        "Image(app.get_graph(xray=1).draw_mermaid_png())"
      ],
      "metadata": {
        "colab": {
          "base_uri": "https://localhost:8080/",
          "height": 449
        },
        "id": "1d3rwQxqRBOz",
        "outputId": "25454986-aa0f-44cf-c1a1-2acb0eb54c93"
      },
      "execution_count": 53,
      "outputs": [
        {
          "output_type": "execute_result",
          "data": {
            "image/png": "[encoded data removed]",
            "text/plain": [
              "<IPython.core.display.Image object>"
            ]
          },
          "metadata": {},
          "execution_count": 53
        }
      ]
    },
    {
      "cell_type": "code",
      "source": [
        "# Call the graph: here we call it to generate a list of jokes\n",
        "for chunk in app.stream({\"topic\": \"animals\"}):\n",
        "    print(chunk)"
      ],
      "metadata": {
        "id": "Py-5x5v9SCBG"
      },
      "execution_count": null,
      "outputs": []
    }
  ]
}